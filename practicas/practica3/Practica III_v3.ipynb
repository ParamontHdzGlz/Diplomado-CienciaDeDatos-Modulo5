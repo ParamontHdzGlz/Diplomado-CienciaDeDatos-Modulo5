{
 "cells": [
  {
   "cell_type": "code",
   "execution_count": null,
   "id": "dd8fee46-8217-4072-9729-7bf60e9b5678",
   "metadata": {},
   "outputs": [],
   "source": [
    "# Data wrangling\n",
    "import json as js\n",
    "import numpy as np\n",
    "import pandas as pd\n",
    "from sqlalchemy import create_engine\n",
    "import os\n",
    "from datetime import datetime\n",
    "\n",
    "# Data Viz\n",
    "import cufflinks as cf\n",
    "from sklearn import set_config\n",
    "\n",
    "# Preprocesamiento\n",
    "from varclushi import VarClusHi\n",
    "from sklearn.pipeline import Pipeline\n",
    "from sklearn.decomposition import PCA\n",
    "from sklearn.manifold import TSNE, MDS\n",
    "from sklearn.impute import SimpleImputer\n",
    "from sklearn.preprocessing import MinMaxScaler,StandardScaler\n",
    "from functools import reduce\n",
    "from scipy.stats import ks_2samp\n",
    "from sklearn.preprocessing import MinMaxScaler,StandardScaler\n",
    "from sklearn.decomposition import PCA\n",
    "from sklearn.manifold import MDS,TSNE\n",
    "from sklearn.cluster import AgglomerativeClustering,KMeans\n",
    "from sklearn.metrics import silhouette_score\n",
    "from sklearn.mixture import GaussianMixture\n",
    "\n",
    "import matplotlib.pyplot as plt\n",
    "\n",
    "from scipy.stats import chisquare\n",
    "from scipy.stats import kruskal\n",
    "from statsmodels.stats.multicomp import MultiComparison\n",
    "import seaborn as sns\n",
    "\n",
    "# Clustering\n",
    "from sklearn.mixture import GaussianMixture\n",
    "from sklearn.metrics import davies_bouldin_score, silhouette_score\n",
    "from sklearn.cluster import KMeans, DBSCAN, AgglomerativeClustering\n",
    "\n",
    "\n",
    "%config Completer.use_jedi = False\n",
    "# Enviroment setup\n",
    "cf.go_offline()\n",
    "set_config(display='diagram')\n",
    "pd.set_option('display.max_columns', 100)\n",
    "pd.set_option('display.float_format', lambda x: '%.4f' % x)"
   ]
  },
  {
   "cell_type": "code",
   "execution_count": null,
   "id": "49916ef5-3aa0-4538-aecf-b75613eaf53a",
   "metadata": {},
   "outputs": [],
   "source": [
    "city= pd.read_csv(\"./Datos/city.csv\")\n",
    "fraud= pd.read_csv(\"./Datos/fraud.csv\")\n",
    "holder= pd.read_csv(\"./Datos/holder.csv\")\n",
    "trans= pd.read_csv(\"./Datos/trans.csv\")"
   ]
  },
  {
   "cell_type": "code",
   "execution_count": null,
   "id": "6fbdff41-d0ea-4ea4-9ab2-db9d34a7c7f5",
   "metadata": {},
   "outputs": [],
   "source": [
    "city.shape, fraud.shape, holder.shape, trans.shape"
   ]
  },
  {
   "cell_type": "code",
   "execution_count": null,
   "id": "85548954-cedd-46e8-bec1-13fd345b6ce4",
   "metadata": {},
   "outputs": [],
   "source": [
    "trans.head()"
   ]
  },
  {
   "cell_type": "code",
   "execution_count": null,
   "id": "9d938638-367f-4074-bb98-027f2614be9a",
   "metadata": {},
   "outputs": [],
   "source": [
    "fraud.head()"
   ]
  },
  {
   "cell_type": "code",
   "execution_count": null,
   "id": "61b0b051-019c-4019-8fcc-8f52796ca025",
   "metadata": {},
   "outputs": [],
   "source": [
    "holder.head()"
   ]
  },
  {
   "cell_type": "code",
   "execution_count": null,
   "id": "e668590f-3e9f-4199-932c-ba2bdf81aef1",
   "metadata": {},
   "outputs": [],
   "source": [
    "city.head()"
   ]
  },
  {
   "cell_type": "code",
   "execution_count": null,
   "id": "d08665f3-ab8f-4119-b42a-5c4c04ac96af",
   "metadata": {},
   "outputs": [],
   "source": [
    "df=pd.merge(holder,city,how=\"left\",on=\"id_city\")\n",
    "df=pd.merge(df,trans,how=\"left\",on=\"id_holder\")"
   ]
  },
  {
   "cell_type": "code",
   "execution_count": null,
   "id": "299ffac5-6b51-47b2-b9eb-f32127ee9e65",
   "metadata": {},
   "outputs": [],
   "source": [
    "df.shape,trans.shape"
   ]
  },
  {
   "cell_type": "code",
   "execution_count": null,
   "id": "f62d3547-c761-48cf-8a5e-49888598252b",
   "metadata": {},
   "outputs": [],
   "source": [
    "df[\"aux\"]=1"
   ]
  },
  {
   "cell_type": "code",
   "execution_count": null,
   "id": "9b180458-b6cd-4a59-87d9-e6d24fe11991",
   "metadata": {},
   "outputs": [],
   "source": [
    "df[[\"id_holder\",\"aux\"]].groupby(\"id_holder\").sum().describe()"
   ]
  },
  {
   "cell_type": "code",
   "execution_count": null,
   "id": "6ff70dab-6a78-48d7-afb9-e6090565cd14",
   "metadata": {},
   "outputs": [],
   "source": [
    "df.columns"
   ]
  },
  {
   "cell_type": "code",
   "execution_count": null,
   "id": "9d7597c0",
   "metadata": {},
   "outputs": [],
   "source": [
    "df.head()"
   ]
  },
  {
   "cell_type": "markdown",
   "id": "f53e5b1f-7d5d-4700-a1b8-60bc3c0c0054",
   "metadata": {},
   "source": [
    "## Etiquetado de Variables"
   ]
  },
  {
   "cell_type": "code",
   "execution_count": null,
   "id": "6b6cde92-36cb-4bcb-9c28-ca3fba2a5efe",
   "metadata": {},
   "outputs": [],
   "source": [
    "c_feats=['city_pop', 'amt', 'lat', 'long', 'merch_lat', 'merch_long']#Continuas\n",
    "v_feats=[\"gender\",'job','city', 'state','zip','cc_num','category']# Discretas\n",
    "d_feats=['dob','unix_time','trans_date_trans_time', 'merchant'] # Fecha\n",
    "t_feats=['first', 'last','street'] #Texto\n",
    "\n",
    "\n",
    "\n",
    "\n",
    "c_feats_new=[\"c_\"+\"_\".join(x.split()) for x in c_feats]\n",
    "v_feats_new=[\"v_\"+\"_\".join(x.split()) for x in v_feats]\n",
    "d_feats_new=[\"d_\"+\"_\".join(x.split()) for x in d_feats]\n",
    "t_feats_new=[\"t_\"+\"_\".join(x.split()) for x in t_feats]\n",
    "\n",
    "\n",
    "\n",
    "df.rename(columns=dict(zip(d_feats,d_feats_new)),inplace=True)\n",
    "df.rename(columns=dict(zip(v_feats,v_feats_new)),inplace=True)\n",
    "df.rename(columns=dict(zip(t_feats,t_feats_new)),inplace=True)\n",
    "df.rename(columns=dict(zip(c_feats,c_feats_new)),inplace=True)\n"
   ]
  },
  {
   "cell_type": "code",
   "execution_count": null,
   "id": "6999958e-a9a1-4dfa-a084-96e75d77a722",
   "metadata": {},
   "outputs": [],
   "source": [
    "df.head()"
   ]
  },
  {
   "cell_type": "code",
   "execution_count": null,
   "id": "06722257-650e-4241-b72c-10ba272e57d8",
   "metadata": {},
   "outputs": [],
   "source": [
    "df.filter(like=\"v_\").head()"
   ]
  },
  {
   "cell_type": "markdown",
   "id": "180c57b7-7069-482a-ae5b-a3ccb7107673",
   "metadata": {},
   "source": [
    "## Calidad de los Datos"
   ]
  },
  {
   "cell_type": "markdown",
   "id": "ee8bb023-ee2f-436a-8930-2ef1ff4969e8",
   "metadata": {},
   "source": [
    "### Duplicados"
   ]
  },
  {
   "cell_type": "code",
   "execution_count": null,
   "id": "c6e7e9a3-b85f-48da-b504-81f082b4a26c",
   "metadata": {},
   "outputs": [],
   "source": [
    "#Verificamos el total de duplicados\n",
    "df.duplicated().sum()"
   ]
  },
  {
   "cell_type": "markdown",
   "id": "586fbc13-d591-4d13-ba98-78bb84d9dda8",
   "metadata": {},
   "source": [
    "## Completitud "
   ]
  },
  {
   "cell_type": "code",
   "execution_count": null,
   "id": "39e2b054-42d4-408f-959c-e50d1c4e205d",
   "metadata": {},
   "outputs": [],
   "source": [
    "completitud = pd.DataFrame((1-df.isnull().sum()/df.shape[0])*100).reset_index().rename(columns={\"index\":\"columna\",0:\"completitud\"})"
   ]
  },
  {
   "cell_type": "code",
   "execution_count": null,
   "id": "16224a16-c7cf-41b5-b094-fcb0a5a2df7f",
   "metadata": {},
   "outputs": [],
   "source": [
    "completitud"
   ]
  },
  {
   "cell_type": "markdown",
   "id": "7731895a-f844-4323-b7fb-ce1ad3112577",
   "metadata": {},
   "source": [
    "## Analisis Exploratorio"
   ]
  },
  {
   "cell_type": "code",
   "execution_count": null,
   "id": "97c90a26-17dc-45ff-8884-41a486425060",
   "metadata": {},
   "outputs": [],
   "source": [
    "df.v_gender.iplot(\"hist\")"
   ]
  },
  {
   "cell_type": "code",
   "execution_count": null,
   "id": "5556fad3-6704-4066-8a95-c4d05ca495f1",
   "metadata": {},
   "outputs": [],
   "source": [
    "df.v_gender.value_counts(1)"
   ]
  },
  {
   "cell_type": "code",
   "execution_count": null,
   "id": "5ac3df41-5faa-403a-a762-3db8f5e82c15",
   "metadata": {},
   "outputs": [],
   "source": [
    "df.v_category.value_counts(1)"
   ]
  },
  {
   "cell_type": "code",
   "execution_count": null,
   "id": "3fd0a92d-9888-4bde-b81a-a5bb5f01fe48",
   "metadata": {},
   "outputs": [],
   "source": [
    "df.v_job.value_counts(1)"
   ]
  },
  {
   "cell_type": "code",
   "execution_count": null,
   "id": "381b6fa0-279d-4f11-9030-c83678402d36",
   "metadata": {},
   "outputs": [],
   "source": [
    "len(list(set(holder.job)))"
   ]
  },
  {
   "cell_type": "code",
   "execution_count": null,
   "id": "156d0ab7-746b-410f-bf33-2df4d9e2a9c8",
   "metadata": {},
   "outputs": [],
   "source": [
    "holder.job.value_counts(0)"
   ]
  },
  {
   "cell_type": "markdown",
   "id": "76c174a1-4938-4622-8472-0587cba1fb98",
   "metadata": {},
   "source": [
    "### Fechas"
   ]
  },
  {
   "cell_type": "code",
   "execution_count": null,
   "id": "3340e1f4-ad36-4b38-9a4d-cf94bbb01765",
   "metadata": {},
   "outputs": [],
   "source": [
    "df[\"d_trans_date_trans_time\"]=pd.to_datetime(df[\"d_trans_date_trans_time\"])"
   ]
  },
  {
   "cell_type": "code",
   "execution_count": null,
   "id": "1cb5acee-eb06-4dfa-9bea-cbcf0c3f4c62",
   "metadata": {},
   "outputs": [],
   "source": [
    "df[\"d_dob\"]=pd.to_datetime(df[\"d_dob\"])"
   ]
  },
  {
   "cell_type": "code",
   "execution_count": null,
   "id": "e24a3649-9ba7-473b-93ee-0b86796f170a",
   "metadata": {},
   "outputs": [],
   "source": [
    "df[\"edad\"]=df[\"d_trans_date_trans_time\"]-df[\"d_dob\"]\n",
    "df[\"edad\"]=df.edad.map(lambda x:x.days)"
   ]
  },
  {
   "cell_type": "code",
   "execution_count": null,
   "id": "18d97717-650d-412d-bc29-afcb178d2a77",
   "metadata": {},
   "outputs": [],
   "source": [
    "df[\"edad\"]/=360"
   ]
  },
  {
   "cell_type": "code",
   "execution_count": null,
   "id": "eb68065f-45c0-4310-892e-3731d3578774",
   "metadata": {},
   "outputs": [],
   "source": [
    "df[\"edad\"].describe()"
   ]
  },
  {
   "cell_type": "code",
   "execution_count": null,
   "id": "84010df0-d28c-49fe-bc04-632868010520",
   "metadata": {},
   "outputs": [],
   "source": [
    "df.filter(like=\"d_\").head()"
   ]
  },
  {
   "cell_type": "code",
   "execution_count": null,
   "id": "f3c97282-30f0-4124-904d-2f2cf0f63e87",
   "metadata": {},
   "outputs": [],
   "source": [
    "df[\"d_trans_date_trans_time\"].describe()"
   ]
  },
  {
   "cell_type": "code",
   "execution_count": null,
   "id": "6414970f-ac4a-4d46-909c-8d60d3193d27",
   "metadata": {},
   "outputs": [],
   "source": [
    "df[\"d_trans_date_trans_time\"].diff(1).describe(percentiles=[0.25,0.50,0.70,0.90,0.95,0.98,0.99])"
   ]
  },
  {
   "cell_type": "code",
   "execution_count": null,
   "id": "3773ddf6-0fcb-48c6-b0c7-f2b5325d445f",
   "metadata": {},
   "outputs": [],
   "source": [
    "df[[\"d_trans_date_trans_time\",\"aux\"]].groupby(\"d_trans_date_trans_time\").sum()"
   ]
  },
  {
   "cell_type": "code",
   "execution_count": null,
   "id": "9c9374cd-677e-4d55-9597-f4acb2f7f342",
   "metadata": {},
   "outputs": [],
   "source": [
    "aux_df=df[[\"id_holder\",\"d_trans_date_trans_time\"]].copy()"
   ]
  },
  {
   "cell_type": "code",
   "execution_count": null,
   "id": "c818dbf5-6747-417c-927f-f713122b565e",
   "metadata": {},
   "outputs": [],
   "source": [
    "aux_df=aux_df.sort_values(by=[\"id_holder\",\"d_trans_date_trans_time\"]).reset_index(drop=True)"
   ]
  },
  {
   "cell_type": "code",
   "execution_count": null,
   "id": "3f0a5d2c-bac4-4752-83ef-b55272aca407",
   "metadata": {},
   "outputs": [],
   "source": [
    "aux_df.groupby(\"id_holder\").diff(1).reset_index()"
   ]
  },
  {
   "cell_type": "code",
   "execution_count": null,
   "id": "a6a0c97f-f206-4ee3-89a0-722f5a7af00d",
   "metadata": {},
   "outputs": [],
   "source": [
    "df[[\"id_holder\",\"d_trans_date_trans_time\"]].groupby([\"id_holder\"]).diff()"
   ]
  },
  {
   "cell_type": "code",
   "execution_count": null,
   "id": "4c47b1bf-a21b-42f7-bf6a-542fe1c9dc54",
   "metadata": {},
   "outputs": [],
   "source": [
    "df[df[\"id_holder\"]==200001][\"d_trans_date_trans_time\"].diff(1).drop(0).iplot(\"hist\")"
   ]
  },
  {
   "cell_type": "code",
   "execution_count": null,
   "id": "626d17d1-1fd7-4279-953d-6d82e3405079",
   "metadata": {},
   "outputs": [],
   "source": [
    "df[df[\"id_holder\"]==200001][\"d_trans_date_trans_time\"].diff(1)"
   ]
  },
  {
   "cell_type": "code",
   "execution_count": null,
   "id": "f7991e7e-d987-40c1-b708-8c43031b5c27",
   "metadata": {},
   "outputs": [],
   "source": [
    "df[df[\"id_holder\"]==200001][\"d_trans_date_trans_time\"].diff(1).drop(0).describe()\n"
   ]
  },
  {
   "cell_type": "code",
   "execution_count": null,
   "id": "ad6801bf-b653-4859-ae18-3ce278ac5026",
   "metadata": {},
   "outputs": [],
   "source": [
    "df[\"d_date_trans\"]=df.d_trans_date_trans_time.map(lambda x:x.date())"
   ]
  },
  {
   "cell_type": "code",
   "execution_count": null,
   "id": "26b5f9e8-4992-4ffa-b5f9-b13a2eb23c45",
   "metadata": {},
   "outputs": [],
   "source": [
    "np.unique(df[df[\"id_holder\"]==200001][\"d_date_trans\"])"
   ]
  },
  {
   "cell_type": "code",
   "execution_count": null,
   "id": "43b63753-6f41-437a-a71d-ff85ccbd655f",
   "metadata": {},
   "outputs": [],
   "source": [
    "np.unique(df.d_trans_date_trans_time.map(lambda x:x.isocalendar()[1]))"
   ]
  },
  {
   "cell_type": "code",
   "execution_count": null,
   "id": "de4b0f7b-fa94-4617-99dc-b67ab0714c84",
   "metadata": {},
   "outputs": [],
   "source": [
    "len(np.unique(df[df[\"id_holder\"]==200001][\"d_date_trans\"]))"
   ]
  },
  {
   "cell_type": "code",
   "execution_count": null,
   "id": "93b00f6d-4bac-45ca-bdc0-b6bfea1ee210",
   "metadata": {},
   "outputs": [],
   "source": [
    "df[\"week\"]=df.d_date_trans.map(lambda x:str(x.year)+\"_\"+str(x.isocalendar()[1]))\n",
    "df[\"mes\"]=df.d_date_trans.map(lambda x:x.strftime('%Y-%m'))"
   ]
  },
  {
   "cell_type": "code",
   "execution_count": null,
   "id": "95da6061-e4e0-4421-bd13-4609fa11c52c",
   "metadata": {},
   "outputs": [],
   "source": [
    "cat=df[['mes']].drop_duplicates().sort_values(by='mes').reset_index(drop=True)\n",
    "cat['id_mes']=cat.index +1"
   ]
  },
  {
   "cell_type": "code",
   "execution_count": null,
   "id": "640c58a9-d34d-4f5f-acfe-4ec783ecaa52",
   "metadata": {},
   "outputs": [],
   "source": [
    "cat"
   ]
  },
  {
   "cell_type": "code",
   "execution_count": null,
   "id": "9cee2b36-707f-45e1-bb04-5890b704b4eb",
   "metadata": {},
   "outputs": [],
   "source": [
    "df = df.merge(cat,on='mes',how='inner')"
   ]
  },
  {
   "cell_type": "code",
   "execution_count": null,
   "id": "714de367",
   "metadata": {},
   "outputs": [],
   "source": [
    "df.sort_values(by=['id_holder', 'd_trans_date_trans_time'], inplace=True)\n",
    "df.reset_index(drop=True, inplace=True)"
   ]
  },
  {
   "cell_type": "code",
   "execution_count": null,
   "id": "b894c797",
   "metadata": {},
   "outputs": [],
   "source": [
    "list_time_tran=[]\n",
    "for id_hold in df['id_holder'].unique():\n",
    "    aux_i = df[df['id_holder']==id_hold]\n",
    "    list_time_tran.append(np.nan)\n",
    "    for ind in range(aux_i.index[0],aux_i.index[-1]):\n",
    "        list_time_tran.append((aux_i['d_trans_date_trans_time'][ind+1]-aux_i['d_trans_date_trans_time'][ind])/np.timedelta64(1,'D'))\n"
   ]
  },
  {
   "cell_type": "code",
   "execution_count": null,
   "id": "ab32c7c5",
   "metadata": {},
   "outputs": [],
   "source": [
    "df['time_bet_tran'] = np.array(list_time_tran)"
   ]
  },
  {
   "cell_type": "code",
   "execution_count": null,
   "id": "626fc51b",
   "metadata": {},
   "outputs": [],
   "source": [
    "completitud = pd.DataFrame((1-df.isnull().sum()/df.shape[0])*100).reset_index().rename(columns={\"index\":\"columna\",0:\"completitud\"})\n",
    "completitud"
   ]
  },
  {
   "cell_type": "code",
   "execution_count": null,
   "id": "23b4758e",
   "metadata": {},
   "outputs": [],
   "source": [
    "df.shape, df.dropna().shape"
   ]
  },
  {
   "cell_type": "code",
   "execution_count": null,
   "id": "c4b96bc0",
   "metadata": {},
   "outputs": [],
   "source": [
    "df.dropna(inplace=True)"
   ]
  },
  {
   "cell_type": "code",
   "execution_count": null,
   "id": "0748cef4-e88b-4d87-a5de-35c35f155fe6",
   "metadata": {},
   "outputs": [],
   "source": [
    "df.head()"
   ]
  },
  {
   "cell_type": "code",
   "execution_count": null,
   "id": "08e7fdfb-f297-419e-ba07-66734781a595",
   "metadata": {},
   "outputs": [],
   "source": [
    "agrupar=[\"id_holder\",\"v_category\",\"id_mes\"]"
   ]
  },
  {
   "cell_type": "code",
   "execution_count": null,
   "id": "427a3f11",
   "metadata": {},
   "outputs": [],
   "source": [
    "df.rename(columns={'c_amt':'amt'}, inplace=True)"
   ]
  },
  {
   "cell_type": "code",
   "execution_count": null,
   "id": "362a1e7e-62fc-4360-adaa-27ecc0f243ce",
   "metadata": {},
   "outputs": [],
   "source": [
    "df_aux=pd.pivot_table(df,index=agrupar,values=['aux', 'edad','amt', 'time_bet_tran'],\n",
    "                aggfunc={'amt': np.sum,\n",
    "                         'edad': np.max,\n",
    "                         'aux':np.sum,\n",
    "                         'time_bet_tran': np.mean}\n",
    "              )"
   ]
  },
  {
   "cell_type": "code",
   "execution_count": null,
   "id": "9ba018b7-4ecf-48a3-b95f-469b92655756",
   "metadata": {},
   "outputs": [],
   "source": [
    "df_aux.reset_index(drop=False,inplace=True)"
   ]
  },
  {
   "cell_type": "code",
   "execution_count": null,
   "id": "13fd0def-2d89-40b3-ab12-fa1322e38e08",
   "metadata": {},
   "outputs": [],
   "source": [
    "df_aux\n"
   ]
  },
  {
   "cell_type": "code",
   "execution_count": null,
   "id": "1fb1543e-fb98-43c3-a4b9-bec359b2970e",
   "metadata": {},
   "outputs": [],
   "source": [
    "vobs=6"
   ]
  },
  {
   "cell_type": "code",
   "execution_count": null,
   "id": "006d39da-4f4a-420d-825e-9f8893f35bd4",
   "metadata": {},
   "outputs": [],
   "source": [
    "anclai,anclaf = cat['id_mes'].min(),cat['id_mes'].max()\n",
    "anclai = anclai+vobs-1\n",
    "anclai,anclaf"
   ]
  },
  {
   "cell_type": "code",
   "execution_count": null,
   "id": "46e83aab-6120-40e9-8765-d8d7946f1bea",
   "metadata": {},
   "outputs": [],
   "source": [
    "def ing(df,ancla,k):\n",
    "    not_=['id_holder','v_category','ancla']\n",
    "    aux_1 = df.loc[(df['id_mes']>=(ancla-k+1))&(df['id_mes']<=ancla)].copy()\n",
    "    for var in ['amt','aux','edad', 'time_bet_tran']:\n",
    "        aux = aux_1.pivot_table(index=['id_holder','v_category'],\n",
    "                              columns=['id_mes'],\n",
    "                              aggfunc=['sum'],\n",
    "                              values=var,\n",
    "                              fill_value=0\n",
    "                             )\n",
    "        aux.columns = [f'x_{f}_{var}_{v}_{k}' for f,v in aux.columns]\n",
    "        aux.reset_index(inplace=True)\n",
    "        aux.insert(1,'ancla',ancla)\n",
    "        columns_check=[x for x in aux.columns if x not in not_]\n",
    "        aux[f'x_prom_{var}_mes_{k}']= aux[columns_check].mean(axis = 1, skipna = True)\n",
    "        aux[f'x_max_{var}_mes_{k}']= aux[columns_check].max(axis = 1, skipna = True)\n",
    "        aux[f'x_min_{var}_mes_{k}']= aux[columns_check].min(axis = 1, skipna = True)\n",
    "        aux[f'x_std_{var}_mes{k}']= aux[columns_check].std(axis = 1, skipna = True)\n",
    "        aux[f'x_median_{var}_mes_{k}']= aux[columns_check].median(axis = 1, skipna = True)\n",
    "        aux[f'x_total_{var}_mes_{k}']= aux[columns_check].sum(axis = 1, skipna = True)\n",
    "        \n",
    "        if var=='amt':\n",
    "            final=aux\n",
    "        else:\n",
    "            final=pd.merge(final,aux,how=\"left\",on=['id_holder','v_category','ancla'])\n",
    "        \n",
    "\n",
    "\n",
    "    \n",
    "    return final\n",
    "\n"
   ]
  },
  {
   "cell_type": "code",
   "execution_count": null,
   "id": "c1c0494d-009d-45f1-b0dc-400b6218a43d",
   "metadata": {},
   "outputs": [],
   "source": [
    "varc = ['amt','aux','edad', 'time_bet_tran']\n",
    "um = ['id_holder','v_category','ancla']"
   ]
  },
  {
   "cell_type": "code",
   "execution_count": null,
   "id": "775561f4-9e17-4e72-b1ea-3c37f6d9137c",
   "metadata": {},
   "outputs": [],
   "source": [
    "cruzar = lambda x,y:pd.merge(x,y,on=um,how='outer')"
   ]
  },
  {
   "cell_type": "code",
   "execution_count": null,
   "id": "f0462bef-6a30-4dab-b678-4d6a0dd6f113",
   "metadata": {},
   "outputs": [],
   "source": [
    "from functools import reduce"
   ]
  },
  {
   "cell_type": "code",
   "execution_count": null,
   "id": "61740f64-d0d3-4046-bd0d-e96eb7d06357",
   "metadata": {},
   "outputs": [],
   "source": [
    "X = pd.concat(map(lambda ancla:reduce(lambda x,y:pd.merge(x,y,on=um,how='outer'),\n",
    "       map(lambda k:ing(df,ancla,k),[1,2,3,4,5,6])),range(anclai,anclaf+1)),\n",
    "              ignore_index=True)"
   ]
  },
  {
   "cell_type": "code",
   "execution_count": null,
   "id": "d8298210-5d4f-43b9-bc74-761bce10b4f2",
   "metadata": {},
   "outputs": [],
   "source": [
    "X"
   ]
  },
  {
   "cell_type": "code",
   "execution_count": null,
   "id": "179d6778-d57b-416a-823b-bbb7d482dad3",
   "metadata": {},
   "outputs": [],
   "source": [
    "var = sorted(X.filter(like='x_').columns)\n",
    "len(var)"
   ]
  },
  {
   "cell_type": "code",
   "execution_count": null,
   "id": "9d7676ef-0c50-4cdc-a3ab-8fd2558476a9",
   "metadata": {},
   "outputs": [],
   "source": [
    "completitud = pd.DataFrame((1-X.isnull().sum()/X.shape[0])*100).reset_index().rename(columns={\"index\":\"columna\",0:\"completitud\"})"
   ]
  },
  {
   "cell_type": "code",
   "execution_count": null,
   "id": "8fb5306e-c050-4102-96d8-bc72f37ee5f1",
   "metadata": {},
   "outputs": [],
   "source": [
    "completitud"
   ]
  },
  {
   "cell_type": "code",
   "execution_count": null,
   "id": "f740958a-efb1-456c-a146-9a54cd18d218",
   "metadata": {},
   "outputs": [],
   "source": [
    "miss = 1-X[var].describe().T[['count']]/len(X)\n",
    "fuera = sorted(miss.loc[miss['count']>0.3].index)\n",
    "X.drop(fuera,axis=1,inplace=True)\n",
    "var = [v for v in var if v not in fuera]"
   ]
  },
  {
   "cell_type": "code",
   "execution_count": null,
   "id": "058480d8-c90b-42b8-8775-8d874cbae5be",
   "metadata": {},
   "outputs": [],
   "source": [
    "len(var)"
   ]
  },
  {
   "cell_type": "code",
   "execution_count": null,
   "id": "f15c98fa-213a-4d80-a8b0-dcd94607ee93",
   "metadata": {},
   "outputs": [],
   "source": [
    "im = SimpleImputer(strategy='median')"
   ]
  },
  {
   "cell_type": "code",
   "execution_count": null,
   "id": "ba4729e6-0054-49e3-8bd6-55f6718827c6",
   "metadata": {},
   "outputs": [],
   "source": [
    "im.fit(X[var])"
   ]
  },
  {
   "cell_type": "code",
   "execution_count": null,
   "id": "418b39d9-8da0-4c3b-8a10-937352b36ece",
   "metadata": {},
   "outputs": [],
   "source": [
    "X.columns"
   ]
  },
  {
   "cell_type": "code",
   "execution_count": null,
   "id": "016730cc-e12f-49c3-b85d-44baccd5f735",
   "metadata": {},
   "outputs": [],
   "source": [
    "Xi = pd.DataFrame(im.transform(X[var]),columns=var)\n",
    "Xi[um] = X[um]\n",
    "Xi[\"id_holder\"] = X[\"id_holder\"]"
   ]
  },
  {
   "cell_type": "code",
   "execution_count": null,
   "id": "076a8d3a-54ea-45aa-8a92-4099f30ade1c",
   "metadata": {},
   "outputs": [],
   "source": [
    "Xi"
   ]
  },
  {
   "cell_type": "code",
   "execution_count": null,
   "id": "ccd1a600-cc0d-4671-a0e9-ceb88d1f8b98",
   "metadata": {},
   "outputs": [],
   "source": [
    "Xi.dropna().shape,Xi.shape"
   ]
  },
  {
   "cell_type": "code",
   "execution_count": null,
   "id": "bbc4b1ad-e1a1-431b-b966-4876bf934757",
   "metadata": {},
   "outputs": [],
   "source": [
    "ks = pd.DataFrame(map(lambda v:(v,ks_2samp(Xi[v],X[v].dropna()).statistic),var),columns=['var','ks'])"
   ]
  },
  {
   "cell_type": "code",
   "execution_count": null,
   "id": "eb145895-84e0-483f-8d04-0da3e97a5330",
   "metadata": {},
   "outputs": [],
   "source": [
    "ks"
   ]
  },
  {
   "cell_type": "code",
   "execution_count": null,
   "id": "d8f3d277-f001-44c5-9d8a-95fad00e53f1",
   "metadata": {},
   "outputs": [],
   "source": [
    "rotas = sorted(ks.loc[ks['ks']>0.1]['var'])"
   ]
  },
  {
   "cell_type": "code",
   "execution_count": null,
   "id": "d43b41c7-f002-4397-b230-3c3a77d5c8b2",
   "metadata": {},
   "outputs": [],
   "source": [
    "rotas"
   ]
  },
  {
   "cell_type": "code",
   "execution_count": null,
   "id": "instant-detection",
   "metadata": {},
   "outputs": [],
   "source": [
    "Xi[\"id_holder\"]"
   ]
  },
  {
   "cell_type": "code",
   "execution_count": null,
   "id": "f06b83c9-8cc0-4ae8-bb45-2427b75c8041",
   "metadata": {},
   "outputs": [],
   "source": [
    "for v,li,ls in Xi[var].describe(percentiles=[0.01,0.99]).T[['1%','99%']].reset_index().values:\n",
    "    Xi[f'ex_{v}'] = ((Xi[v]<li)|(Xi[v]>ls)).astype(int)\n",
    "Xi['ex_'] = Xi.filter(like='ex_').max(axis=1)"
   ]
  },
  {
   "cell_type": "code",
   "execution_count": null,
   "id": "20818030-66ea-4389-bce0-f053c3432641",
   "metadata": {},
   "outputs": [],
   "source": [
    "Xi['ex_'].value_counts(True)"
   ]
  },
  {
   "cell_type": "code",
   "execution_count": null,
   "id": "6ba85ce6",
   "metadata": {},
   "outputs": [],
   "source": [
    "Xi.head()"
   ]
  },
  {
   "cell_type": "code",
   "execution_count": null,
   "id": "1d956cfe",
   "metadata": {},
   "outputs": [],
   "source": [
    "def get_bounds(x):\n",
    "  #Obtener los limiter cuantilicos para el metodo de IQR para detectar outliers\n",
    "    q3 = x.quantile(0.75)\n",
    "    q1 = x.quantile(0.25)\n",
    "    iqr = q3 - q1\n",
    "    lb = q1 - 1.5*iqr\n",
    "    ub = q3 + 1.5*iqr\n",
    "    return pd.Interval(lb, ub, closed=\"both\")"
   ]
  },
  {
   "cell_type": "code",
   "execution_count": null,
   "id": "779ddeab",
   "metadata": {
    "ExecuteTime": {
     "end_time": "2021-05-08T14:20:16.076847Z",
     "start_time": "2021-05-08T14:20:15.886338Z"
    },
    "execution": {
     "iopub.execute_input": "2021-09-25T14:25:42.141341Z",
     "iopub.status.busy": "2021-09-25T14:25:42.140970Z",
     "iopub.status.idle": "2021-09-25T14:25:42.276830Z",
     "shell.execute_reply": "2021-09-25T14:25:42.276015Z",
     "shell.execute_reply.started": "2021-09-25T14:25:42.141300Z"
    },
    "hidden": true,
    "id": "e5e289e4",
    "tags": []
   },
   "outputs": [],
   "source": [
    "dc_out = {feat: get_bounds(Xi[feat]) for feat in var}"
   ]
  },
  {
   "cell_type": "code",
   "execution_count": null,
   "id": "d9ca13cd",
   "metadata": {
    "ExecuteTime": {
     "end_time": "2021-05-08T14:21:58.991533Z",
     "start_time": "2021-05-08T14:21:53.688773Z"
    },
    "execution": {
     "iopub.execute_input": "2021-09-25T14:27:51.216430Z",
     "iopub.status.busy": "2021-09-25T14:27:51.216118Z",
     "iopub.status.idle": "2021-09-25T14:27:56.976423Z",
     "shell.execute_reply": "2021-09-25T14:27:56.975789Z",
     "shell.execute_reply.started": "2021-09-25T14:27:51.216398Z"
    },
    "hidden": true,
    "id": "b8aeaa2b",
    "tags": []
   },
   "outputs": [],
   "source": [
    "for col in var:\n",
    "    Xi[f\"ol_{col}\"] = Xi[col].map(lambda x: x not in dc_out[col]).astype(int)"
   ]
  },
  {
   "cell_type": "code",
   "execution_count": null,
   "id": "71f51296",
   "metadata": {
    "ExecuteTime": {
     "end_time": "2021-05-08T14:24:53.925822Z",
     "start_time": "2021-05-08T14:24:53.890369Z"
    },
    "execution": {
     "iopub.execute_input": "2021-09-25T14:28:31.494181Z",
     "iopub.status.busy": "2021-09-25T14:28:31.493824Z",
     "iopub.status.idle": "2021-09-25T14:28:31.549931Z",
     "shell.execute_reply": "2021-09-25T14:28:31.549106Z",
     "shell.execute_reply.started": "2021-09-25T14:28:31.494118Z"
    },
    "hidden": true,
    "id": "e18b9252",
    "tags": []
   },
   "outputs": [],
   "source": [
    "Xi[\"ol\"] = Xi[[x for x in Xi.columns if x.startswith(\"ol\")]].mean(axis=1)"
   ]
  },
  {
   "cell_type": "code",
   "execution_count": null,
   "id": "5161489d",
   "metadata": {
    "ExecuteTime": {
     "end_time": "2021-05-08T14:25:46.230415Z",
     "start_time": "2021-05-08T14:25:46.213474Z"
    },
    "colab": {
     "base_uri": "https://localhost:8080/"
    },
    "execution": {
     "iopub.execute_input": "2021-09-25T14:28:36.065638Z",
     "iopub.status.busy": "2021-09-25T14:28:36.065219Z",
     "iopub.status.idle": "2021-09-25T14:28:36.092281Z",
     "shell.execute_reply": "2021-09-25T14:28:36.091319Z",
     "shell.execute_reply.started": "2021-09-25T14:28:36.065586Z"
    },
    "hidden": true,
    "id": "6f380d72",
    "outputId": "390a5431-8dc9-4e56-e0fa-cb20b24e4ab4",
    "tags": []
   },
   "outputs": [],
   "source": [
    "Xi[\"ol\"].describe([0.8, 0.85, 0.9, 0.95, 0.96, 0.97, 0.98, 0.99])"
   ]
  },
  {
   "cell_type": "code",
   "execution_count": null,
   "id": "22cb4464",
   "metadata": {
    "ExecuteTime": {
     "end_time": "2021-05-08T14:27:55.676722Z",
     "start_time": "2021-05-08T14:27:55.591376Z"
    },
    "execution": {
     "iopub.execute_input": "2021-09-25T14:30:04.463472Z",
     "iopub.status.busy": "2021-09-25T14:30:04.463200Z",
     "iopub.status.idle": "2021-09-25T14:30:04.535456Z",
     "shell.execute_reply": "2021-09-25T14:30:04.534765Z",
     "shell.execute_reply.started": "2021-09-25T14:30:04.463439Z"
    },
    "hidden": true,
    "id": "81a7605a",
    "tags": []
   },
   "outputs": [],
   "source": [
    "Xi[Xi[\"ol\"]<0.2].drop(columns=[x for x in Xi.columns if x.startswith(\"ol\")]).shape[0]/Xi.shape[0]"
   ]
  },
  {
   "cell_type": "code",
   "execution_count": null,
   "id": "535fa2cd",
   "metadata": {},
   "outputs": [],
   "source": [
    "Xi = Xi[Xi[\"ol\"]<0.2].drop(columns=[x for x in Xi.columns if x.startswith(\"ol\")])"
   ]
  },
  {
   "cell_type": "code",
   "execution_count": null,
   "id": "cdc487a6",
   "metadata": {
    "colab": {
     "base_uri": "https://localhost:8080/"
    },
    "id": "MxQlz2uQ0ok8",
    "outputId": "0b55cdd1-00da-4199-cd2f-255ae7081fe0"
   },
   "outputs": [],
   "source": [
    "Xi.shape"
   ]
  },
  {
   "cell_type": "code",
   "execution_count": null,
   "id": "544ec2b1-7ff1-4d2c-9f75-f1c50b9bd822",
   "metadata": {},
   "outputs": [],
   "source": [
    "Xi[var].sample(n=2000).hist()"
   ]
  },
  {
   "cell_type": "code",
   "execution_count": null,
   "id": "1dcc5f83-684b-4ad8-bd1f-3becf6c6bd66",
   "metadata": {},
   "outputs": [],
   "source": [
    "Xi.loc[Xi['ex_']==0][var].sample(n=2000).hist()"
   ]
  },
  {
   "cell_type": "code",
   "execution_count": null,
   "id": "aef7ee4a-9708-4856-a294-1772dc0a547b",
   "metadata": {},
   "outputs": [],
   "source": [
    "Xi = Xi.loc[Xi['ex_']==0].reset_index(drop=True).drop(Xi.filter(like='ex_').columns,axis=1)"
   ]
  },
  {
   "cell_type": "code",
   "execution_count": null,
   "id": "2b6ce500-d994-479e-afbc-4b1a4cb3811b",
   "metadata": {},
   "outputs": [],
   "source": [
    "Xi"
   ]
  },
  {
   "cell_type": "code",
   "execution_count": null,
   "id": "e3081d53-cbc5-43cf-8d6e-cab666777960",
   "metadata": {},
   "outputs": [],
   "source": [
    "len(Xi.columns)"
   ]
  },
  {
   "cell_type": "code",
   "execution_count": null,
   "id": "56afd55b-55e9-4697-8f53-2bd17641a65c",
   "metadata": {},
   "outputs": [],
   "source": [
    "vc = VarClusHi(df=Xi.sample(5000),feat_list=var)\n",
    "vc.varclus()\n",
    "rs = vc.rsquare\n",
    "rs = rs.sort_values(by=['Cluster','RS_Ratio']).reset_index(drop=True)\n",
    "rs['id'] = rs.groupby('Cluster').cumcount()+1\n",
    "rs"
   ]
  },
  {
   "cell_type": "code",
   "execution_count": null,
   "id": "978dad76-aa69-4fc3-8592-f479fc5ec641",
   "metadata": {},
   "outputs": [],
   "source": [
    "var = sorted(rs.loc[rs['id']==1]['Variable'])"
   ]
  },
  {
   "cell_type": "code",
   "execution_count": null,
   "id": "5b2c819a-881a-4cbb-b519-c27d5f9ddfba",
   "metadata": {},
   "outputs": [],
   "source": [
    "Xi[var].corr()"
   ]
  },
  {
   "cell_type": "code",
   "execution_count": null,
   "id": "b84427e7-8cc2-4149-85b0-678fb5cb1176",
   "metadata": {},
   "outputs": [],
   "source": [
    "var"
   ]
  },
  {
   "cell_type": "code",
   "execution_count": null,
   "id": "93de68a8-0b70-4ef0-822b-e7d55829e8db",
   "metadata": {},
   "outputs": [],
   "source": [
    "Xi.shape"
   ]
  },
  {
   "cell_type": "code",
   "execution_count": null,
   "id": "ba8ebbdf-0fe7-4ca8-b798-fdff1e6e79db",
   "metadata": {},
   "outputs": [],
   "source": [
    "Xi_aux=Xi.sample(frac=0.1)"
   ]
  },
  {
   "cell_type": "code",
   "execution_count": null,
   "id": "89521f19-534d-46f1-8faf-275fb352cfbf",
   "metadata": {},
   "outputs": [],
   "source": [
    "Xi_aux.shape"
   ]
  },
  {
   "cell_type": "markdown",
   "id": "5f9277db-73ec-40fd-8755-992b9b893b80",
   "metadata": {},
   "source": [
    "## PCA"
   ]
  },
  {
   "cell_type": "code",
   "execution_count": null,
   "id": "41158e78-d6b0-4d6a-bedf-2a9142574e89",
   "metadata": {},
   "outputs": [],
   "source": [
    "sc = StandardScaler()\n",
    "pca = PCA(n_components=3)\n",
    "Xp = pd.DataFrame(pca.fit_transform(sc.fit_transform(Xi_aux[var])))\n",
    "print(pca.explained_variance_ratio_.cumsum())\n",
    "Xp"
   ]
  },
  {
   "cell_type": "markdown",
   "id": "d074162c-d520-472c-b77d-6b217abf9f95",
   "metadata": {},
   "source": [
    "## Visualizacion"
   ]
  },
  {
   "cell_type": "code",
   "execution_count": null,
   "id": "92ff9643-e8c0-4f13-8073-666d92427123",
   "metadata": {},
   "outputs": [],
   "source": [
    "Xp.sample(frac=0.07).iplot(kind='scatter3d',x=0,y=1,z=2,mode='markers',color='purple')"
   ]
  },
  {
   "cell_type": "code",
   "execution_count": null,
   "id": "ec9d05d9-788a-4e10-bb97-6503cb93fa3d",
   "metadata": {},
   "outputs": [],
   "source": [
    "Xp.sample(frac=0.07).iplot(kind='scatter',x=0,y=1,mode='markers',color='purple')"
   ]
  },
  {
   "cell_type": "markdown",
   "id": "2dd0f831-b065-4b61-b420-e6ba55fb40fc",
   "metadata": {},
   "source": [
    "## Aglomerativo"
   ]
  },
  {
   "cell_type": "code",
   "execution_count": null,
   "id": "bee88d09-0812-4191-95f3-70b63e08fd5b",
   "metadata": {},
   "outputs": [],
   "source": [
    "sc = MinMaxScaler()\n",
    "Xs = pd.DataFrame(sc.fit_transform(Xi_aux[var]),columns=var)"
   ]
  },
  {
   "cell_type": "code",
   "execution_count": null,
   "id": "fa4f6574-2918-43d6-9642-cd1b73cbca27",
   "metadata": {},
   "outputs": [],
   "source": [
    "#Con la nueva variable time_bet_tran\n",
    "sil = pd.DataFrame(map(lambda k:(k,silhouette_score(Xs,\n",
    "                                              AgglomerativeClustering(n_clusters=k).fit_predict(Xs))),\n",
    "                 range(2,10)),columns=['k','sil'])\n",
    "plt.plot(sil['k'],sil['sil'],marker='o')"
   ]
  },
  {
   "cell_type": "code",
   "execution_count": null,
   "id": "f4fa6c65-19d1-4174-80f1-1c9084c2548f",
   "metadata": {},
   "outputs": [],
   "source": [
    "plt.plot(sil['k'],sil['sil'],marker='o')"
   ]
  },
  {
   "cell_type": "code",
   "execution_count": null,
   "id": "1fb7a495-018d-407a-a78d-01d5310b544b",
   "metadata": {},
   "outputs": [],
   "source": [
    "k = 4\n",
    "tipo = 'agg'\n",
    "agg = AgglomerativeClustering(n_clusters=k)\n",
    "Xi_aux[f'cl_{tipo}']=Xp[f'cl_{tipo}']=agg.fit_predict(Xs[var])"
   ]
  },
  {
   "cell_type": "markdown",
   "id": "e6f637ef-5c4a-43ae-b152-4205d99d29f7",
   "metadata": {},
   "source": [
    "## K-Medias"
   ]
  },
  {
   "cell_type": "code",
   "execution_count": null,
   "id": "a3b4fd8c",
   "metadata": {},
   "outputs": [],
   "source": [
    "#Con la nueva variable time_bet_tran\n",
    "sil = pd.DataFrame(map(lambda k:(k,silhouette_score(Xs,\n",
    "                                              KMeans(n_clusters=k,max_iter=1000).fit_predict(Xs))),\n",
    "                 range(2,10)),columns=['k','sil'])\n",
    "plt.plot(sil['k'],sil['sil'],marker='o')"
   ]
  },
  {
   "cell_type": "code",
   "execution_count": null,
   "id": "d81669a6-1ac1-4f60-b73b-c6682e9a64ac",
   "metadata": {},
   "outputs": [],
   "source": [
    "sil = pd.DataFrame(map(lambda k:(k,silhouette_score(Xs,\n",
    "                                              KMeans(n_clusters=k,max_iter=1000).fit_predict(Xs))),\n",
    "                 range(2,10)),columns=['k','sil'])\n",
    "plt.plot(sil['k'],sil['sil'],marker='o')"
   ]
  },
  {
   "cell_type": "code",
   "execution_count": null,
   "id": "a336c503-fd8a-46a6-b59b-bb1f48019434",
   "metadata": {},
   "outputs": [],
   "source": [
    "k = 3\n",
    "tipo = 'kme'\n",
    "kme = KMeans(n_clusters=k,max_iter=1000)\n",
    "Xi_aux[f'cl_{tipo}']=Xp[f'cl_{tipo}']=kme.fit_predict(Xs[var])"
   ]
  },
  {
   "cell_type": "markdown",
   "id": "eadbc981-db53-4338-a6d3-bb66f3fa0d33",
   "metadata": {},
   "source": [
    "## Gausisianos Mixtos"
   ]
  },
  {
   "cell_type": "code",
   "execution_count": null,
   "id": "dbdb3683",
   "metadata": {},
   "outputs": [],
   "source": [
    "#Con la nueva variable time_bet_tran\n",
    "sil = pd.DataFrame(map(lambda k:(k,silhouette_score(Xs,\n",
    "                                              GaussianMixture(n_components=k,max_iter=1000).fit_predict(Xs))),\n",
    "                 range(2,10)),columns=['k','sil'])\n",
    "plt.plot(sil['k'],sil['sil'],marker='o')"
   ]
  },
  {
   "cell_type": "code",
   "execution_count": null,
   "id": "163f5cc3-4d62-4b63-b56c-6440fb865aa8",
   "metadata": {},
   "outputs": [],
   "source": [
    "sil = pd.DataFrame(map(lambda k:(k,silhouette_score(Xs,\n",
    "                                              GaussianMixture(n_components=k,max_iter=1000).fit_predict(Xs))),\n",
    "                 range(2,10)),columns=['k','sil'])\n",
    "plt.plot(sil['k'],sil['sil'],marker='o')"
   ]
  },
  {
   "cell_type": "code",
   "execution_count": null,
   "id": "343a7f02-31d7-496e-a455-5f1df4050e22",
   "metadata": {},
   "outputs": [],
   "source": [
    "k = 5\n",
    "tipo = 'gmm'  \n",
    "gmm = GaussianMixture(n_components=k,max_iter=1000)\n",
    "Xi_aux[f'cl_{tipo}']=Xp[f'cl_{tipo}']=gmm.fit_predict(Xs[var])"
   ]
  },
  {
   "cell_type": "code",
   "execution_count": null,
   "id": "afd0246e-244a-4247-9128-81a35dfaf6a7",
   "metadata": {},
   "outputs": [],
   "source": [
    "Xi_aux"
   ]
  },
  {
   "cell_type": "code",
   "execution_count": null,
   "id": "9ea53eed-3551-492b-9a5c-f2d8df1495e3",
   "metadata": {},
   "outputs": [],
   "source": [
    "Xp"
   ]
  },
  {
   "cell_type": "code",
   "execution_count": null,
   "id": "incredible-female",
   "metadata": {},
   "outputs": [],
   "source": [
    "varcl = sorted(Xi_aux.filter(like='cl_'))\n",
    "for v in varcl:\n",
    "    Xp[v] = Xp[v].astype(str)\n",
    "    Xi_aux[v] = Xi[v].astype(str)\n",
    "    \n",
    "pd.DataFrame(map(lambda cl:(cl,silhouette_score(Xs,Xi_aux[cl])),varcl),columns=['cluster','sil']).iplot(kind='bar',categories='cluster')"
   ]
  },
  {
   "cell_type": "code",
   "execution_count": null,
   "id": "1242b19a-2ceb-479b-9e95-0326ee9aea65",
   "metadata": {},
   "outputs": [],
   "source": [
    "    \n",
    "pd.DataFrame(map(lambda cl:(cl,silhouette_score(Xs,Xi_aux[cl])),varcl),columns=['cluster','sil']).iplot(kind='bar',categories='cluster')"
   ]
  },
  {
   "cell_type": "code",
   "execution_count": null,
   "id": "9b775cc9-397c-4312-b63c-f483b38f57f4",
   "metadata": {},
   "outputs": [],
   "source": [
    "Xs"
   ]
  },
  {
   "cell_type": "markdown",
   "id": "6518b1da-745e-407e-9b2f-f8a913187b01",
   "metadata": {},
   "source": [
    "## Perfilamiento"
   ]
  },
  {
   "cell_type": "code",
   "execution_count": null,
   "id": "ffdc8ce6-fcdc-46ff-bbde-c6a6abb5844f",
   "metadata": {},
   "outputs": [],
   "source": [
    "var"
   ]
  },
  {
   "cell_type": "code",
   "execution_count": null,
   "id": "7026c7b9-1442-452e-9184-a637f5c91c5a",
   "metadata": {},
   "outputs": [],
   "source": [
    "pd.DataFrame(map(lambda v:(v,\n",
    "              kruskal(*[d[v].reset_index(drop=True) for cl,d in Xi_aux[['cl_kme',v]].groupby('cl_kme')]).pvalue),var),\n",
    "             columns=['variable','p-value']).round(2)"
   ]
  },
  {
   "cell_type": "code",
   "execution_count": null,
   "id": "ee78d706-8c32-43b3-b4a5-c04e4c4d6a68",
   "metadata": {},
   "outputs": [],
   "source": [
    "for v in var:\n",
    "    print(v)\n",
    "    display(MultiComparison(Xi_aux[v],Xi_aux['cl_kme']).tukeyhsd().summary())\n",
    "    plt.figure()\n",
    "    sns.boxplot(data=Xi_aux,y=v,x='cl_kme')"
   ]
  },
  {
   "cell_type": "code",
   "execution_count": null,
   "id": "fc1636c1-2958-46a2-89d1-e06b1e0e2d50",
   "metadata": {},
   "outputs": [],
   "source": [
    "display(Xi_aux[var+['cl_kme']].groupby('cl_kme').mean())\n",
    "display(Xi_aux[var].mean().to_frame().T)"
   ]
  },
  {
   "cell_type": "markdown",
   "id": "surprising-scanner",
   "metadata": {},
   "source": [
    "### Comparando con fraudes"
   ]
  },
  {
   "cell_type": "code",
   "execution_count": null,
   "id": "distributed-david",
   "metadata": {},
   "outputs": [],
   "source": [
    "Xp1 = Xp.copy()"
   ]
  },
  {
   "cell_type": "code",
   "execution_count": null,
   "id": "civil-steering",
   "metadata": {},
   "outputs": [],
   "source": [
    "Xp1[\"id_holder\"] = Xi_aux[\"id_holder\"].reset_index(drop=True)"
   ]
  },
  {
   "cell_type": "code",
   "execution_count": null,
   "id": "needed-cooperative",
   "metadata": {},
   "outputs": [],
   "source": [
    "Xp1=pd.merge(Xp1,trans,how=\"left\",on=\"id_holder\")"
   ]
  },
  {
   "cell_type": "code",
   "execution_count": null,
   "id": "tutorial-republic",
   "metadata": {},
   "outputs": [],
   "source": [
    "fraud[\"is_fraud\"] = 1"
   ]
  },
  {
   "cell_type": "code",
   "execution_count": null,
   "id": "heated-ordinary",
   "metadata": {},
   "outputs": [],
   "source": [
    "Xp1 = pd.merge(Xp1,fraud,how=\"left\",on=\"trans_num\")"
   ]
  },
  {
   "cell_type": "code",
   "execution_count": null,
   "id": "spare-release",
   "metadata": {},
   "outputs": [],
   "source": [
    "Xp1[\"is_fraud\"]=Xp1[\"is_fraud\"].fillna(0)"
   ]
  },
  {
   "cell_type": "code",
   "execution_count": null,
   "id": "vietnamese-demographic",
   "metadata": {},
   "outputs": [],
   "source": [
    "Xp_t = Xp1.groupby(['id_holder','cl_agg','cl_kme','cl_gmm'])\\\n",
    "        .aggregate({'is_fraud':'sum'})\\\n",
    "        .reset_index()"
   ]
  },
  {
   "cell_type": "code",
   "execution_count": null,
   "id": "civilian-latter",
   "metadata": {},
   "outputs": [],
   "source": [
    "Xp_t[\"is_fraud\"].value_counts(1)"
   ]
  },
  {
   "cell_type": "code",
   "execution_count": null,
   "id": "active-thursday",
   "metadata": {},
   "outputs": [],
   "source": [
    "for cluster in [\"cl_agg\",'cl_kme','cl_gmm']:\n",
    "    Xp_t.boxplot(column=\"is_fraud\",by=cluster)"
   ]
  }
 ],
 "metadata": {
  "kernelspec": {
   "display_name": "Python 3",
   "language": "python",
   "name": "python3"
  },
  "language_info": {
   "codemirror_mode": {
    "name": "ipython",
    "version": 3
   },
   "file_extension": ".py",
   "mimetype": "text/x-python",
   "name": "python",
   "nbconvert_exporter": "python",
   "pygments_lexer": "ipython3",
   "version": "3.8.10"
  },
  "varInspector": {
   "cols": {
    "lenName": 16,
    "lenType": 16,
    "lenVar": 40
   },
   "kernels_config": {
    "python": {
     "delete_cmd_postfix": "",
     "delete_cmd_prefix": "del ",
     "library": "var_list.py",
     "varRefreshCmd": "print(var_dic_list())"
    },
    "r": {
     "delete_cmd_postfix": ") ",
     "delete_cmd_prefix": "rm(",
     "library": "var_list.r",
     "varRefreshCmd": "cat(var_dic_list()) "
    }
   },
   "types_to_exclude": [
    "module",
    "function",
    "builtin_function_or_method",
    "instance",
    "_Feature"
   ],
   "window_display": false
  }
 },
 "nbformat": 4,
 "nbformat_minor": 5
}
